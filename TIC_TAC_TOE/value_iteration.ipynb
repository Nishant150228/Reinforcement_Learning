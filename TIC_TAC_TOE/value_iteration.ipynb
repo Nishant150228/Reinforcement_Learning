{
 "cells": [
  {
   "cell_type": "code",
   "execution_count": 1,
   "id": "1a0e6bba",
   "metadata": {},
   "outputs": [
    {
     "ename": "ModuleNotFoundError",
     "evalue": "No module named 'MDP'",
     "output_type": "error",
     "traceback": [
      "\u001b[1;31m---------------------------------------------------------------------------\u001b[0m",
      "\u001b[1;31mModuleNotFoundError\u001b[0m                       Traceback (most recent call last)",
      "Cell \u001b[1;32mIn[1], line 1\u001b[0m\n\u001b[1;32m----> 1\u001b[0m \u001b[38;5;28;01mfrom\u001b[39;00m \u001b[38;5;21;01mMDP\u001b[39;00m \u001b[38;5;28;01mimport\u001b[39;00m MDP\n\u001b[0;32m      2\u001b[0m \u001b[38;5;28;01mfrom\u001b[39;00m \u001b[38;5;21;01mtqdm\u001b[39;00m \u001b[38;5;28;01mimport\u001b[39;00m tqdm\n\u001b[0;32m      3\u001b[0m \u001b[38;5;28;01mimport\u001b[39;00m \u001b[38;5;21;01mnumpy\u001b[39;00m \u001b[38;5;28;01mas\u001b[39;00m \u001b[38;5;21;01mnp\u001b[39;00m\n",
      "\u001b[1;31mModuleNotFoundError\u001b[0m: No module named 'MDP'"
     ]
    }
   ],
   "source": [
    "from MDP import MDP\n",
    "from tqdm import tqdm\n",
    "import numpy as np\n",
    "import json \n",
    "\n",
    "\n",
    "class ValueIteration(MDP):\n",
    "\n",
    "    def __init__(self, gamma=0.95, epsilon=10e-10):\n",
    "        super().__init__()\n",
    "        self.gamma = gamma\n",
    "        self.epsilon = epsilon\n",
    "        self.policy = {}\n",
    "        self.V = {}\n",
    "\n",
    "    def _init_V(self):\n",
    "        for state in self.states:\n",
    "            self.V[state] = 0\n",
    "    \n",
    "    def _init_P(self):\n",
    "        for state in self.states:\n",
    "            self.policy[str(state)] = None\n",
    "\n",
    "    def initialize(self):\n",
    "        self.generate_states()\n",
    "        self.generate_actions()\n",
    "        self.termination_states()\n",
    "        self._init_V()\n",
    "        self._init_P()\n",
    "\n",
    "    def value_iteration(self):\n",
    "        self.initialize()\n",
    "        epoch = 0\n",
    "        while True:\n",
    "            print(f\"Epoch {epoch + 1} started...\")\n",
    "            epoch += 1\n",
    "            delta = 0\n",
    "            for s in tqdm(self.states):\n",
    "                if s in self.T_states:\n",
    "                    self.V[s] = self.reward_function(s)\n",
    "                    continue\n",
    "                v = self.V[s]\n",
    "                # print('s', s)\n",
    "                for a in self.actions[s]:\n",
    "                    expected_value = self.V[s]\n",
    "                    # next_states = self.possible_next_states(s, a)\n",
    "                    for s_prime in self.possible_next_states(s, a):\n",
    "                        # print('s_prime', s_prime, a)\n",
    "                        expected_value += self.improved_transition_probability(s, a) * (self.reward_function(s_prime) + self.gamma * self.V[s_prime])\n",
    "                    self.V[s] = max(expected_value, self.V[s])\n",
    "                delta = max(delta, abs(v - self.V[s]))\n",
    "            if delta < self.epsilon:\n",
    "                break\n",
    "\n",
    "        for s in self.states:\n",
    "            if s in self.T_states:\n",
    "                continue\n",
    "            best_action = None\n",
    "            best_value = float(\"-inf\")\n",
    "            for a in self.actions[s]:\n",
    "                expected_value = self.reward_function(s)\n",
    "                for s_prime in self.possible_next_states(s, a):\n",
    "                    p_prob = self.improved_transition_probability(s, a)\n",
    "                    expected_value += p_prob * (self.reward_function(s_prime) + self.gamma * self.V[s_prime])\n",
    "                if expected_value > best_value:\n",
    "                    best_value = expected_value\n",
    "                    best_action = a\n",
    "            self.policy[str(s)] = best_action\n",
    "        with open('value_iteration/policy.json', 'w') as f:\n",
    "            json.dump(self.policy, f)\n",
    "\n",
    "\n",
    "if __name__ == '__main__':\n",
    "    VI = ValueIteration()\n",
    "    VI.value_iteration()"
   ]
  },
  {
   "cell_type": "code",
   "execution_count": null,
   "id": "5a052efa",
   "metadata": {},
   "outputs": [],
   "source": []
  }
 ],
 "metadata": {
  "kernelspec": {
   "display_name": "Python 3 (ipykernel)",
   "language": "python",
   "name": "python3"
  },
  "language_info": {
   "codemirror_mode": {
    "name": "ipython",
    "version": 3
   },
   "file_extension": ".py",
   "mimetype": "text/x-python",
   "name": "python",
   "nbconvert_exporter": "python",
   "pygments_lexer": "ipython3",
   "version": "3.11.5"
  }
 },
 "nbformat": 4,
 "nbformat_minor": 5
}
